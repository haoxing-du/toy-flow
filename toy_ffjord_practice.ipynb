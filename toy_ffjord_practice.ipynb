{
 "cells": [
  {
   "cell_type": "code",
   "execution_count": 9,
   "id": "750861b5",
   "metadata": {},
   "outputs": [
    {
     "name": "stdout",
     "output_type": "stream",
     "text": [
      "(8192, 2)\n",
      "Epoch 1/20\n",
      "Tensor(\"Placeholder:0\", shape=(256, 2), dtype=float32)\n",
      "32/32 [==============================] - 90s 190ms/step - loss: 1.9212\n",
      "Epoch 2/20\n",
      "32/32 [==============================] - 8s 247ms/step - loss: 1.5841\n",
      "Epoch 3/20\n",
      "32/32 [==============================] - 8s 242ms/step - loss: 1.4942\n",
      "Epoch 4/20\n",
      "32/32 [==============================] - 8s 243ms/step - loss: 1.3813\n",
      "Epoch 5/20\n",
      "32/32 [==============================] - 9s 270ms/step - loss: 1.1718\n",
      "Epoch 6/20\n",
      "32/32 [==============================] - 8s 261ms/step - loss: 1.1024\n",
      "Epoch 7/20\n",
      "32/32 [==============================] - 9s 268ms/step - loss: 1.0302\n",
      "Epoch 8/20\n",
      "32/32 [==============================] - 8s 264ms/step - loss: 0.9916\n",
      "Epoch 9/20\n",
      "32/32 [==============================] - 9s 266ms/step - loss: 1.0537\n",
      "Epoch 10/20\n",
      "32/32 [==============================] - 9s 282ms/step - loss: 0.8782\n",
      "Epoch 11/20\n",
      "32/32 [==============================] - 9s 293ms/step - loss: 0.9011\n",
      "Epoch 12/20\n",
      "32/32 [==============================] - 10s 300ms/step - loss: 0.8195\n",
      "Epoch 13/20\n",
      "32/32 [==============================] - 10s 300ms/step - loss: 0.8478\n",
      "Epoch 14/20\n",
      "32/32 [==============================] - 10s 304ms/step - loss: 0.8571\n",
      "Epoch 15/20\n",
      "32/32 [==============================] - 10s 308ms/step - loss: 0.8486\n",
      "Epoch 16/20\n",
      "32/32 [==============================] - 10s 309ms/step - loss: 0.7575\n",
      "Epoch 17/20\n",
      "32/32 [==============================] - 10s 309ms/step - loss: 0.7129\n",
      "Epoch 18/20\n",
      "32/32 [==============================] - 10s 306ms/step - loss: 0.8171\n",
      "Epoch 19/20\n",
      "32/32 [==============================] - 10s 310ms/step - loss: 0.7712\n",
      "Epoch 20/20\n",
      "32/32 [==============================] - 10s 311ms/step - loss: 0.7852\n"
     ]
    },
    {
     "data": {
      "image/png": "[encoded data removed]",
      "text/plain": [
       "<Figure size 576x432 with 2 Axes>"
      ]
     },
     "metadata": {
      "needs_background": "light"
     },
     "output_type": "display_data"
    }
   ],
   "source": [
    "import numpy as np\n",
    "import os,re\n",
    "import sklearn.datasets as skd\n",
    "import tensorflow as tf\n",
    "from tensorflow import keras\n",
    "from tensorflow.keras import layers, Input\n",
    "import time\n",
    "import matplotlib.pyplot as plt\n",
    "\n",
    "import tensorflow_probability as tfp\n",
    "tfb = tfp.bijectors\n",
    "tfd = tfp.distributions\n",
    "\n",
    "\n",
    "class MLP_ODE(keras.Model):\n",
    "    \"\"\"Multi-layer NN ode_fn.\"\"\"\n",
    "    def __init__(self, num_hidden, num_layers, num_output,name='mlp_ode'):\n",
    "        super(MLP_ODE, self).__init__()\n",
    "        self._num_hidden = num_hidden\n",
    "        self._num_output = num_output\n",
    "        self._num_layers = num_layers\n",
    "        self._modules = []\n",
    "        \n",
    "        #Fully connected layers with tanh activation and linear output\n",
    "        self._modules.append(Input(shape=(1+self._num_output))) #time is part of the inputs\n",
    "        for _ in range(self._num_layers - 1):\n",
    "            self._modules.append(layers.Dense(self._num_hidden,activation='tanh'))\n",
    "            \n",
    "        self._modules.append(layers.Dense(self._num_output,activation=None))\n",
    "        self._model = keras.Sequential(self._modules)\n",
    "        \n",
    "    @tf.function\n",
    "    def call(self, t, data):\n",
    "        #We add time to each transformation so they are parameterized for time\n",
    "        t = t*tf.ones([data.shape[0],1])\n",
    "        inputs = tf.concat([t, data], -1)\n",
    "        return self._model(inputs)\n",
    "        \n",
    "class FFJORD(keras.Model):\n",
    "    def __init__(self, stacked_mlps, batch_size,num_output,name='FFJORD'):\n",
    "        super(FFJORD, self).__init__()\n",
    "        self._num_output=num_output\n",
    "        self._batch_size = batch_size \n",
    "        ode_solve_fn = tfp.math.ode.DormandPrince(atol=1e-5).solve\n",
    "        #Gaussian noise to trace solver\n",
    "        trace_augmentation_fn = tfb.ffjord.trace_jacobian_hutchinson\n",
    "        #trace_augmentation_fn = tfb.ffjord.trace_jacobian_exact\n",
    "        \n",
    "        bijectors = []\n",
    "        for imlp,mlp in enumerate(stacked_mlps):\n",
    "            ffjord = tfb.FFJORD(\n",
    "                state_time_derivative_fn=mlp,\n",
    "                ode_solve_fn=ode_solve_fn,\n",
    "                trace_augmentation_fn=trace_augmentation_fn,              \n",
    "            )\n",
    "            bijectors.append(ffjord)\n",
    "\n",
    "        #Reverse the bijector order\n",
    "        self.chain = tfb.Chain(list(reversed(bijectors)))\n",
    "\n",
    "        self.loss_tracker = keras.metrics.Mean(name=\"loss\")\n",
    "        #Determien the base distribution\n",
    "        self.base_distribution = tfp.distributions.MultivariateNormalDiag(\n",
    "            loc=self._num_output*[0.0], scale_diag=self._num_output*[1.0]\n",
    "        )\n",
    "        \n",
    "        self.flow=self.Transform()\n",
    "        self._variables = self.flow.variables\n",
    "        \n",
    "    @property\n",
    "    def metrics(self):\n",
    "        \"\"\"List of the model's metrics.\n",
    "        We make sure the loss tracker is listed as part of `model.metrics`\n",
    "        so that `fit()` and `evaluate()` are able to `reset()` the loss tracker\n",
    "        at the start of each epoch and at the start of an `evaluate()` call.\n",
    "        \"\"\"\n",
    "        return [self.loss_tracker]\n",
    "    \n",
    "    @tf.function\n",
    "    def call(self, inputs):\n",
    "        return self.flow.bijector.forward(inputs)\n",
    "            \n",
    "    def Transform(self):        \n",
    "        return tfd.TransformedDistribution(distribution=self.base_distribution, bijector=self.chain)\n",
    "\n",
    "    \n",
    "    @tf.function\n",
    "    def log_loss(self,_x):\n",
    "        print(_x)\n",
    "        loss = -tf.reduce_mean(self.flow.log_prob(_x))\n",
    "        return loss\n",
    "    \n",
    "    \n",
    "    @tf.function()\n",
    "    def train_step(self, data):\n",
    "        #Full shape needs to be given when using tf.dataset\n",
    "        data.set_shape((self._batch_size,self._num_output))\n",
    "        with tf.GradientTape() as tape:\n",
    "            loss = self.log_loss(data)\n",
    "            \n",
    "        g = tape.gradient(loss, self.trainable_variables)\n",
    "        self.optimizer.apply_gradients(zip(g, self.trainable_variables))\n",
    "        self.loss_tracker.update_state(loss)\n",
    "\n",
    "        return {\"loss\": self.loss_tracker.result()}\n",
    "    \n",
    "    @tf.function\n",
    "    def test_step(self, data):\n",
    "        #Full shape needs to be given when using tf.dataset\n",
    "        data.set_shape((self._batch_size,self._num_output))\n",
    "        \n",
    "        loss = self.log_loss(data,cond)\n",
    "        self.loss_tracker.update_state(loss)\n",
    "        return {\"loss\": self.loss_tracker.result()}\n",
    "\n",
    "\n",
    "if __name__ == '__main__':\n",
    "\n",
    "    LR = 1e-2\n",
    "    NUM_EPOCHS = 20\n",
    "    STACKED_FFJORDS = 4 #Number of stacked transformations\n",
    "    NUM_LAYERS = 8 #Hiddden layers per bijector\n",
    "    NUM_OUTPUT = 2 #Output dimension\n",
    "    NUM_HIDDEN = 4*NUM_OUTPUT #Hidden layer node size\n",
    "\n",
    "    \n",
    "    #Target dataset: half moon\n",
    "    DATASET_SIZE = 1024 * 8\n",
    "    BATCH_SIZE = 256 \n",
    "\n",
    "    moons = skd.make_moons(n_samples=DATASET_SIZE, noise=.06)[0].astype(\"float32\")\n",
    "    print(moons.shape)\n",
    "    \n",
    "    #Stack of bijectors \n",
    "    stacked_mlps = []\n",
    "    for _ in range(STACKED_FFJORDS):\n",
    "        mlp_model = MLP_ODE(NUM_HIDDEN, NUM_LAYERS, NUM_OUTPUT)\n",
    "        stacked_mlps.append(mlp_model)\n",
    "\n",
    "    #Create the model\n",
    "    model = FFJORD(stacked_mlps,BATCH_SIZE,NUM_OUTPUT)\n",
    "    model.compile(optimizer=keras.optimizers.Adam(learning_rate=LR))\n",
    "    \n",
    "    history = model.fit(\n",
    "        moons,\n",
    "        batch_size=BATCH_SIZE,\n",
    "        epochs=NUM_EPOCHS,\n",
    "        verbose=1,\n",
    "    )\n",
    "\n",
    "    NSAMPLES = 10000\n",
    "    #Sample the learned distribution\n",
    "    base_distribution = model.base_distribution.sample(NSAMPLES)\n",
    "    transformed = model.flow.sample(NSAMPLES)\n",
    "    \n",
    "    #Plotting    \n",
    "    fig = plt.figure(figsize=(8, 6))\n",
    "    plt.subplot(211)\n",
    "    plt.scatter(base_distribution[:, 0], base_distribution[:, 1], color=\"r\")\n",
    "    plt.subplot(212)\n",
    "    plt.scatter(transformed[:, 0], transformed[:, 1], color=\"r\")\n",
    "    plot_folder = '../plots'\n",
    "    if not os.path.exists(plot_folder):\n",
    "        os.makedirs(plot_folder)\n",
    "    \n",
    "    fig.savefig('{}/double_moon.pdf'.format(plot_folder))"
   ]
  },
  {
   "cell_type": "code",
   "execution_count": 11,
   "id": "1379a777",
   "metadata": {},
   "outputs": [
    {
     "data": {
      "text/plain": [
       "<tf.Tensor: shape=(), dtype=float32, numpy=-1.962877>"
      ]
     },
     "execution_count": 11,
     "metadata": {},
     "output_type": "execute_result"
    }
   ],
   "source": [
    "# Log probability for point (0, 0.5)?\n",
    "model.base_distribution.log_prob([0,0.5])"
   ]
  },
  {
   "cell_type": "code",
   "execution_count": 53,
   "id": "a1c9fc11",
   "metadata": {},
   "outputs": [
    {
     "data": {
      "text/plain": [
       "array([[-0.1,  0.6]], dtype=float32)"
      ]
     },
     "execution_count": 53,
     "metadata": {},
     "output_type": "execute_result"
    }
   ],
   "source": [
    "# Transformed coordinate of (-0.1, 0.6) in the normal distribution?\n",
    "temp = np.zeros([1,2], dtype='float32')\n",
    "temp[0] = [-0.1, 0.6]\n",
    "temp\n",
    "#model.chain.forward(temp)\n",
    "\n",
    "# I don't know if this is correct at all, but it looks like the answer is (0.423, 0.843)?\n",
    "# Even if this is correct, this is certainly not the best way to do it... I couldn't\n",
    "# figure out how to call forward() on just one point, and had to create this tf.Tensor\n",
    "# with (-0.1, 0.6) as the first element to call forward() on it. What is the best way to\n",
    "# actually do this?\n",
    "\n",
    "# Thanks to Ben and Vinny's help, I figured out that you could in fact call forward()\n",
    "# on a single point, but it needs to be like this:\n",
    "model.chain.forward([[-0.1,0.6]])"
   ]
  },
  {
   "cell_type": "code",
   "execution_count": 36,
   "id": "46d3c1b8",
   "metadata": {},
   "outputs": [
    {
     "data": {
      "text/plain": [
       "<matplotlib.collections.PathCollection at 0x7f9e239bfbb0>"
      ]
     },
     "execution_count": 36,
     "metadata": {},
     "output_type": "execute_result"
    },
    {
     "data": {
      "image/png": "[encoded data removed]",
      "text/plain": [
       "<Figure size 576x216 with 1 Axes>"
      ]
     },
     "metadata": {
      "needs_background": "light"
     },
     "output_type": "display_data"
    }
   ],
   "source": [
    "# Revert samples from double moon distribution using inverse\n",
    "inversed = model.chain.inverse(transformed)\n",
    "\n",
    "fig2 = plt.figure(figsize=(8, 3))\n",
    "plt.scatter(inversed[:, 0], inversed[:, 1], color=\"r\")\n",
    "\n",
    "# It looks like a normal distribution again!"
   ]
  },
  {
   "cell_type": "code",
   "execution_count": 57,
   "id": "bd620047",
   "metadata": {},
   "outputs": [
    {
     "data": {
      "text/plain": [
       "<tf.Tensor: shape=(10000, 2), dtype=float32, numpy=\n",
       "array([[-0.8265002 ,  0.68157065],\n",
       "       [ 0.5299471 , -0.32267785],\n",
       "       [-0.02945252, -0.11661252],\n",
       "       ...,\n",
       "       [-0.36178988,  1.0878217 ],\n",
       "       [ 1.599465  , -0.6032721 ],\n",
       "       [-0.7990341 ,  0.6188802 ]], dtype=float32)>"
      ]
     },
     "execution_count": 57,
     "metadata": {},
     "output_type": "execute_result"
    }
   ],
   "source": [
    "transformed"
   ]
  },
  {
   "cell_type": "code",
   "execution_count": null,
   "id": "6c51f763",
   "metadata": {},
   "outputs": [],
   "source": []
  }
 ],
 "metadata": {
  "kernelspec": {
   "display_name": "Python 3 (ipykernel)",
   "language": "python",
   "name": "python3"
  },
  "language_info": {
   "codemirror_mode": {
    "name": "ipython",
    "version": 3
   },
   "file_extension": ".py",
   "mimetype": "text/x-python",
   "name": "python",
   "nbconvert_exporter": "python",
   "pygments_lexer": "ipython3",
   "version": "3.8.12"
  }
 },
 "nbformat": 4,
 "nbformat_minor": 5
}
