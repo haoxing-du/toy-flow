{
 "cells": [
  {
   "cell_type": "code",
   "execution_count": 1,
   "id": "68682db1",
   "metadata": {},
   "outputs": [],
   "source": [
    "import numpy as np\n",
    "import os,re\n",
    "import tensorflow as tf\n",
    "from tensorflow import keras\n",
    "from tensorflow.keras import layers, Input\n",
    "from tensorflow.keras.callbacks import EarlyStopping, ReduceLROnPlateau\n",
    "import time\n",
    "import matplotlib.pyplot as plt\n",
    "\n",
    "import tensorflow_probability as tfp\n",
    "tfb = tfp.bijectors\n",
    "tfd = tfp.distributions"
   ]
  },
  {
   "cell_type": "code",
   "execution_count": 2,
   "id": "ac75421e",
   "metadata": {},
   "outputs": [],
   "source": [
    "class MLP_ODE(keras.Model):\n",
    "    \"\"\"Multi-layer NN ode_fn.\"\"\"\n",
    "    def __init__(self, num_hidden, num_layers, num_output,num_cond=2,name='mlp_ode'):\n",
    "        super(MLP_ODE, self).__init__()\n",
    "        self._num_hidden = num_hidden\n",
    "        self._num_output = num_output\n",
    "        self._num_layers = num_layers\n",
    "        self._num_cond = num_cond\n",
    "        self._modules = []\n",
    "        \n",
    "        #Fully connected layers with tanh activation and linear output\n",
    "        self._modules.append(Input(shape=(1+self._num_output+self._num_cond))) #time is part of the inputs\n",
    "        for _ in range(self._num_layers - 1):\n",
    "            self._modules.append(layers.Dense(self._num_hidden,activation='tanh'))\n",
    "            \n",
    "        self._modules.append(layers.Dense(self._num_output,activation=None))\n",
    "        self._model = keras.Sequential(self._modules)\n",
    "\n",
    "        if self._num_cond > 1:\n",
    "            #In more dimensiona, is useful to feed the conditional distributions after passing through an independent network model\n",
    "            self._cond_model = keras.Sequential(\n",
    "                [\n",
    "                    Input(shape=(self._num_cond)),\n",
    "                    layers.Dense(self._num_hidden,activation='relu'),\n",
    "                    layers.Dense(self._num_cond,activation=None),\n",
    "                ])\n",
    "        \n",
    "    @tf.function\n",
    "    def call(self, t, data,conditional_input=None):\n",
    "        if self._num_cond==1:\n",
    "            #No network for a single feature\n",
    "            cond_transform=tf.cast(conditional_input,dtype=tf.float32)\n",
    "        else:\n",
    "            cond_transform = self._cond_model(conditional_input)\n",
    "            \n",
    "        t = t*tf.ones([data.shape[0],1])\n",
    "        inputs = tf.concat([t, data,cond_transform], -1)\n",
    "        return self._model(inputs)\n",
    "\n",
    "def make_bijector_kwargs(bijector, name_to_kwargs):\n",
    "    #Hack to pass the conditional information through all the bijector layers\n",
    "    if hasattr(bijector, 'bijectors'):\n",
    "        return {b.name: make_bijector_kwargs(b, name_to_kwargs) for b in bijector.bijectors}\n",
    "    else:\n",
    "        for name_regex, kwargs in name_to_kwargs.items():\n",
    "            if re.match(name_regex, bijector.name):\n",
    "                return kwargs\n",
    "    return {}\n",
    "\n",
    "def save_model(model,name=\"ffjord\",checkpoint_dir = '../checkpoints'):\n",
    "    if not os.path.exists(checkpoint_dir):\n",
    "        os.makedirs(checkpoint_dir)\n",
    "    model.save_weights('{}/{}'.format(checkpoint_dir,name,save_format='tf'))\n",
    "\n",
    "def load_model(model,name=\"ffjord\",checkpoint_dir = '../checkpoints'):\n",
    "    model.load_weights('{}/{}'.format(checkpoint_dir,name,save_format='tf')).expect_partial()\n",
    "    \n",
    "        \n",
    "class FFJORD(keras.Model):\n",
    "    def __init__(self, stacked_mlps, batch_size,num_output,trace_type='hutchinson',name='FFJORD'):\n",
    "        super(FFJORD, self).__init__()\n",
    "        self._num_output=num_output\n",
    "        self._batch_size = batch_size \n",
    "        ode_solve_fn = tfp.math.ode.DormandPrince(atol=1e-5).solve\n",
    "        #Gaussian noise to trace solver\n",
    "        if trace_type=='hutchinson':\n",
    "            trace_augmentation_fn = tfb.ffjord.trace_jacobian_hutchinson\n",
    "        elif trace_type == 'exact':\n",
    "            trace_augmentation_fn = tfb.ffjord.trace_jacobian_exact\n",
    "        else:\n",
    "            raise Exception(\"Invalid trace estimator\")\n",
    "        \n",
    "        \n",
    "        bijectors = []\n",
    "        for imlp,mlp in enumerate(stacked_mlps):\n",
    "            ffjord = tfb.FFJORD(\n",
    "                state_time_derivative_fn=mlp,\n",
    "                ode_solve_fn=ode_solve_fn,\n",
    "                trace_augmentation_fn=trace_augmentation_fn,\n",
    "                name='bijector{}'.format(imlp) #Bijectors need to be names to receive conditional inputs\n",
    "            )\n",
    "            bijectors.append(ffjord)\n",
    "\n",
    "        #Reverse the bijector order\n",
    "        self.chain = tfb.Chain(list(reversed(bijectors)))\n",
    "\n",
    "        self.loss_tracker = keras.metrics.Mean(name=\"loss\")\n",
    "        #Determien the base distribution\n",
    "        self.base_distribution = tfp.distributions.MultivariateNormalDiag(\n",
    "            loc=self._num_output*[0.0], scale_diag=self._num_output*[1.0]\n",
    "        )\n",
    "        \n",
    "        self.flow=self.Transform()\n",
    "        self._variables = self.flow.variables\n",
    "        \n",
    "    @property\n",
    "    def metrics(self):\n",
    "        \"\"\"List of the model's metrics.\n",
    "        We make sure the loss tracker is listed as part of `model.metrics`\n",
    "        so that `fit()` and `evaluate()` are able to `reset()` the loss tracker\n",
    "        at the start of each epoch and at the start of an `evaluate()` call.\n",
    "        \"\"\"\n",
    "        return [self.loss_tracker]\n",
    "    \n",
    "    @tf.function\n",
    "    def call(self, inputs, conditional_input=None):\n",
    "        kwargs = make_bijector_kwargs(self.flow.bijector,{'bijector.': {'conditional_input':conditional_input }})\n",
    "        return self.flow.bijector.forward(inputs,**kwargs)\n",
    "        \n",
    "            \n",
    "    def Transform(self):        \n",
    "        return tfd.TransformedDistribution(distribution=self.base_distribution, bijector=self.chain)\n",
    "\n",
    "    \n",
    "    @tf.function\n",
    "    def log_loss(self,_x,_c):\n",
    "        loss = -tf.reduce_mean(self.flow.log_prob(\n",
    "            _x,\n",
    "            bijector_kwargs=make_bijector_kwargs(\n",
    "                self.flow.bijector, {'bijector.': {'conditional_input': _c}})                                      \n",
    "        ))\n",
    "        \n",
    "        return loss\n",
    "    \n",
    "    @tf.function\n",
    "    def conditional_prob(self,_x,_c):\n",
    "        prob = self.flow.prob(\n",
    "            _x,\n",
    "            bijector_kwargs=make_bijector_kwargs(\n",
    "                self.flow.bijector, {'bijector.': {'conditional_input': _c}})                                      \n",
    "        )\n",
    "        \n",
    "        return prob\n",
    "    \n",
    "    @tf.function\n",
    "    def conditional_log_prob(self,_x,_c):\n",
    "        return self.flow.log_prob(\n",
    "            _x,\n",
    "            bijector_kwargs=make_bijector_kwargs(\n",
    "                self.flow.bijector, {'bijector.': {'conditional_input': _c}})                                      \n",
    "        )\n",
    "    \n",
    "    \n",
    "    @tf.function()\n",
    "    def train_step(self, values):\n",
    "        #Full shape needs to be given when using tf.dataset\n",
    "        data = values[:self._batch_size,:self._num_output]\n",
    "        cond = values[:self._batch_size,self._num_output:]\n",
    "        data.set_shape((self._batch_size,self._num_output))\n",
    "        cond.set_shape((self._batch_size,cond.shape[1]))\n",
    "\n",
    "        with tf.GradientTape() as tape:\n",
    "            loss = self.log_loss(data,cond)\n",
    "            \n",
    "        g = tape.gradient(loss, self.trainable_variables)\n",
    "        self.optimizer.apply_gradients(zip(g, self.trainable_variables))\n",
    "        self.loss_tracker.update_state(loss)\n",
    "\n",
    "        return {\"loss\": self.loss_tracker.result()}\n",
    "    \n",
    "    @tf.function\n",
    "    def test_step(self, values):\n",
    "        data = values[:self._batch_size,:self._num_output]\n",
    "        cond = values[:self._batch_size,self._num_output:]\n",
    "        data.set_shape((self._batch_size,self._num_output))\n",
    "        cond.set_shape((self._batch_size,cond.shape[1]))\n",
    "        \n",
    "        loss = self.log_loss(data,cond)\n",
    "        self.loss_tracker.update_state(loss)\n",
    "        return {\"loss\": self.loss_tracker.result()}"
   ]
  },
  {
   "cell_type": "code",
   "execution_count": 3,
   "id": "833df18f",
   "metadata": {},
   "outputs": [
    {
     "name": "stdout",
     "output_type": "stream",
     "text": [
      "Training samples: [[ 0.95839149  1.73929715  1.47218138]\n",
      " [-0.05280919  0.66860509  0.19039239]\n",
      " [-0.50933653 -0.87665445 -0.20202411]\n",
      " ...\n",
      " [ 2.82496262  0.14363588  0.94301895]\n",
      " [-0.73001605  0.11761271 -0.00948353]\n",
      " [-0.08301755  3.13085318  1.14651757]]\n"
     ]
    }
   ],
   "source": [
    "# Target dataset: 2D Gaussians centered at (c,c)\n",
    "DATASET_SIZE = 1600*256\n",
    "BATCH_SIZE = 256\n",
    "\n",
    "def generate_2D_gaussian(n):\n",
    "    cond_vals = np.random.uniform(-0.5, 1.5, (n,1))\n",
    "    samples = np.empty([n,2]).astype(np.float32)\n",
    "    for i in range(n):\n",
    "        samples[i] = np.random.normal(cond_vals[i], 1, (1,2))\n",
    "    return np.concatenate([samples, cond_vals],-1) #Last dimensions are the conditional values\n",
    "\n",
    "samples_train = generate_2D_gaussian(DATASET_SIZE)\n",
    "#samples_val = generate_2D_gaussian(VAL_SIZE)\n",
    "\n",
    "print(f\"Training samples: {samples_train}\")\n",
    "#print(f\"Validation samples: {samples_val}\")"
   ]
  },
  {
   "cell_type": "markdown",
   "id": "607599e0",
   "metadata": {},
   "source": [
    "## Some infrastructure for hyperparameter search"
   ]
  },
  {
   "cell_type": "code",
   "execution_count": 21,
   "id": "b0b3e3c4",
   "metadata": {},
   "outputs": [],
   "source": [
    "def hpo(LR, STACKED_FFJORDS, NUM_LAYERS):\n",
    "    NUM_OUTPUT = 2 #Output dimension\n",
    "    NUM_HIDDEN = 4*NUM_OUTPUT #Hidden layer node size\n",
    "    NUM_COND = 1 #Number of conditional dimensions\n",
    "    \n",
    "    #Stack of bijectors \n",
    "    stacked_mlps = []\n",
    "    for _ in range(STACKED_FFJORDS):\n",
    "        mlp_model = MLP_ODE(NUM_HIDDEN, NUM_LAYERS, NUM_OUTPUT,NUM_COND)\n",
    "        stacked_mlps.append(mlp_model)\n",
    "\n",
    "    #Create the model\n",
    "    model = FFJORD(stacked_mlps,BATCH_SIZE,NUM_OUTPUT,trace_type='hutchinson')\n",
    "    model.compile(optimizer=keras.optimizers.Adam(learning_rate=LR))\n",
    "    \n",
    "    callbacks=[\n",
    "        EarlyStopping(monitor='val_loss',patience=5,restore_best_weights=True),\n",
    "        ReduceLROnPlateau(monitor='val_loss', factor=0.5,\n",
    "                              patience=2, min_lr=1e-6, verbose=1, cooldown=0)\n",
    "    ]\n",
    "    \n",
    "    history = model.fit(\n",
    "        samples_train,\n",
    "        batch_size=BATCH_SIZE,\n",
    "        epochs=40,\n",
    "        verbose=1,\n",
    "        validation_split=0.1,\n",
    "        callbacks=callbacks,\n",
    "    )\n",
    "    \n",
    "    num_epochs = callbacks[0].stopped_epoch\n",
    "    \n",
    "    return num_epochs"
   ]
  },
  {
   "cell_type": "code",
   "execution_count": null,
   "id": "69ab5013",
   "metadata": {},
   "outputs": [],
   "source": [
    "from itertools import product\n",
    "\n",
    "LRs = [1e-1, 1e-2, 1e-3, 1e-4]\n",
    "STACKED_FFJORDSs = [1, 2, 3, 4]\n",
    "NUM_LAYERSs = [1, 2, 4]\n",
    "\n",
    "hpo_results = {}\n",
    "\n",
    "start_time_total = time.time()\n",
    "\n",
    "for LR, STACKED_FFJORDS, NUM_LAYERS in product(LRs, STACKED_FFJORDSs, NUM_LAYERSs):\n",
    "    print(f\"LR: {LR}, STACKED_FFJORDS: {STACKED_FFJORDS}, NUM_LAYERS: {NUM_LAYERS}\")\n",
    "    start_time = time.time()\n",
    "    test_loss, num_epochs = hpo(LR, STACKED_FFJORDS, NUM_LAYERS)\n",
    "    \n",
    "    print(f\"Test loss: {test_loss}\")\n",
    "    print(f\"Training + evaluation took: {time.time() - start_time} seconds\")\n",
    "    \n",
    "    hpo_results[(LR, STACKED_FFJORDS, NUM_LAYERS, num_epochs)] = test_loss\n",
    "\n",
    "print(f\"HP search total time: {time.time() - start_time_total} seconds\")"
   ]
  },
  {
   "cell_type": "code",
   "execution_count": 151,
   "id": "ea724589",
   "metadata": {
    "scrolled": true
   },
   "outputs": [
    {
     "name": "stdout",
     "output_type": "stream",
     "text": [
      "(0.01, 2, 1, 23)\n"
     ]
    }
   ],
   "source": [
    "best_hp = min(hpo_results, key=hpo_results.get)\n",
    "print(best_hp)"
   ]
  },
  {
   "cell_type": "markdown",
   "id": "8ebc9d1d",
   "metadata": {},
   "source": [
    "## Train model"
   ]
  },
  {
   "cell_type": "code",
   "execution_count": 9,
   "id": "108a06c1",
   "metadata": {},
   "outputs": [],
   "source": [
    "my_devices = tf.config.experimental.list_physical_devices(device_type='CPU')\n",
    "tf.config.experimental.set_visible_devices(devices= my_devices, device_type='CPU')"
   ]
  },
  {
   "cell_type": "code",
   "execution_count": 4,
   "id": "73c88087",
   "metadata": {
    "scrolled": false
   },
   "outputs": [
    {
     "name": "stderr",
     "output_type": "stream",
     "text": [
      "2022-06-01 19:47:16.781580: W tensorflow/stream_executor/platform/default/dso_loader.cc:64] Could not load dynamic library 'libcudnn.so.8'; dlerror: libcudnn.so.8: cannot open shared object file: No such file or directory; LD_LIBRARY_PATH: :/global/home/users/haoxing_du/anaconda3/envs/new_env/lib/:/global/home/users/haoxing_du/anaconda3/envs/tf2/lib/\n",
      "2022-06-01 19:47:16.781608: W tensorflow/core/common_runtime/gpu/gpu_device.cc:1850] Cannot dlopen some GPU libraries. Please make sure the missing libraries mentioned above are installed properly if you would like to use GPU. Follow the guide at https://www.tensorflow.org/install/gpu for how to download and setup the required libraries for your platform.\n",
      "Skipping registering GPU devices...\n",
      "2022-06-01 19:47:16.782238: I tensorflow/core/platform/cpu_feature_guard.cc:151] This TensorFlow binary is optimized with oneAPI Deep Neural Network Library (oneDNN) to use the following CPU instructions in performance-critical operations:  AVX2 FMA\n",
      "To enable them in other operations, rebuild TensorFlow with the appropriate compiler flags.\n",
      "2022-06-01 19:47:17.011358: W tensorflow/python/util/util.cc:368] Sets are not currently considered sequences, but this may change in the future, so consider avoiding using them.\n"
     ]
    },
    {
     "name": "stdout",
     "output_type": "stream",
     "text": [
      "Number of trainable params: 3850\n",
      "Number of nontrainable params: 2.0\n",
      "Number of total params: 3852.0\n",
      "Epoch 1/40\n",
      "WARNING:tensorflow:From /global/home/users/haoxing_du/anaconda3/envs/tf2/lib/python3.8/site-packages/tensorflow_probability/python/math/ode/base.py:455: calling while_loop_v2 (from tensorflow.python.ops.control_flow_ops) with back_prop=False is deprecated and will be removed in a future version.\n",
      "Instructions for updating:\n",
      "back_prop=False is deprecated. Consider using tf.stop_gradient instead.\n",
      "Instead of:\n",
      "results = tf.while_loop(c, b, vars, back_prop=False)\n",
      "Use:\n",
      "results = tf.nest.map_structure(tf.stop_gradient, tf.while_loop(c, b, vars))\n",
      "1440/1440 [==============================] - 283s 156ms/step - loss: 2.8536 - val_loss: 2.8507 - lr: 5.0000e-04\n",
      "Epoch 2/40\n",
      "1440/1440 [==============================] - 221s 153ms/step - loss: 2.8357 - val_loss: 2.8417 - lr: 5.0000e-04\n",
      "Epoch 3/40\n",
      "1440/1440 [==============================] - 223s 155ms/step - loss: 2.8411 - val_loss: 2.8456 - lr: 5.0000e-04\n",
      "Epoch 4/40\n",
      "1440/1440 [==============================] - ETA: 0s - loss: 2.8377\n",
      "Epoch 00004: ReduceLROnPlateau reducing learning rate to 0.0002500000118743628.\n",
      "1440/1440 [==============================] - 232s 161ms/step - loss: 2.8377 - val_loss: 2.8576 - lr: 5.0000e-04\n",
      "Epoch 5/40\n",
      "1440/1440 [==============================] - 214s 149ms/step - loss: 2.8438 - val_loss: 2.8308 - lr: 2.5000e-04\n",
      "Epoch 6/40\n",
      "1440/1440 [==============================] - 224s 156ms/step - loss: 2.8402 - val_loss: 2.8317 - lr: 2.5000e-04\n",
      "Epoch 7/40\n",
      "1440/1440 [==============================] - ETA: 0s - loss: 2.8396\n",
      "Epoch 00007: ReduceLROnPlateau reducing learning rate to 0.0001250000059371814.\n",
      "1440/1440 [==============================] - 234s 163ms/step - loss: 2.8396 - val_loss: 2.8481 - lr: 2.5000e-04\n",
      "Epoch 8/40\n",
      "1440/1440 [==============================] - 228s 159ms/step - loss: 2.8418 - val_loss: 2.8128 - lr: 1.2500e-04\n",
      "Epoch 9/40\n",
      "1440/1440 [==============================] - 228s 158ms/step - loss: 2.8310 - val_loss: 2.8513 - lr: 1.2500e-04\n",
      "Epoch 10/40\n",
      "1440/1440 [==============================] - ETA: 0s - loss: 2.8412\n",
      "Epoch 00010: ReduceLROnPlateau reducing learning rate to 6.25000029685907e-05.\n",
      "1440/1440 [==============================] - 235s 163ms/step - loss: 2.8412 - val_loss: 2.8358 - lr: 1.2500e-04\n",
      "Epoch 11/40\n",
      "1440/1440 [==============================] - 244s 170ms/step - loss: 2.8412 - val_loss: 2.8281 - lr: 6.2500e-05\n",
      "Epoch 12/40\n",
      "1440/1440 [==============================] - ETA: 0s - loss: 2.8453\n",
      "Epoch 00012: ReduceLROnPlateau reducing learning rate to 3.125000148429535e-05.\n",
      "1440/1440 [==============================] - 242s 168ms/step - loss: 2.8453 - val_loss: 2.8429 - lr: 6.2500e-05\n",
      "Epoch 13/40\n",
      "1440/1440 [==============================] - 241s 167ms/step - loss: 2.8343 - val_loss: 2.8441 - lr: 3.1250e-05\n"
     ]
    }
   ],
   "source": [
    "LR = 5e-4\n",
    "NUM_EPOCHS = 40\n",
    "STACKED_FFJORDS = 5 #Number of stacked transformations\n",
    "NUM_LAYERS = 3 #Hiddden layers per bijector\n",
    "NUM_OUTPUT = 2 #Output dimension\n",
    "NUM_HIDDEN = 12*NUM_OUTPUT #Hidden layer node size\n",
    "NUM_COND = 1 #Number of conditional dimensions\n",
    "\n",
    "\n",
    "#Stack of bijectors \n",
    "stacked_mlps = []\n",
    "for _ in range(STACKED_FFJORDS):\n",
    "    mlp_model = MLP_ODE(NUM_HIDDEN, NUM_LAYERS, NUM_OUTPUT,NUM_COND)\n",
    "    stacked_mlps.append(mlp_model)\n",
    "\n",
    "#Create the model\n",
    "model = FFJORD(stacked_mlps,BATCH_SIZE,NUM_OUTPUT,trace_type='hutchinson')\n",
    "model.compile(optimizer=keras.optimizers.Adam(learning_rate=LR))\n",
    "\n",
    "callbacks=[\n",
    "        EarlyStopping(monitor='val_loss',patience=5,restore_best_weights=True),\n",
    "        ReduceLROnPlateau(monitor='val_loss', factor=0.5,\n",
    "                              patience=2, min_lr=1e-6, verbose=1, cooldown=0)\n",
    "    ]\n",
    "\n",
    "trainableParams = np.sum([np.prod(v.get_shape()) for v in model.trainable_weights])\n",
    "nonTrainableParams = np.sum([np.prod(v.get_shape()) for v in model.non_trainable_weights])\n",
    "totalParams = trainableParams + nonTrainableParams\n",
    "print(f\"Number of trainable params: {trainableParams}\")\n",
    "print(f\"Number of nontrainable params: {nonTrainableParams}\")\n",
    "print(f\"Number of total params: {totalParams}\")\n",
    "\n",
    "history = model.fit(\n",
    "    samples_train,\n",
    "    batch_size=BATCH_SIZE,\n",
    "    epochs=NUM_EPOCHS,\n",
    "    verbose=1,\n",
    "    validation_split=0.1,\n",
    "    #validation_data=samples_val,\n",
    "    callbacks=callbacks,\n",
    ")\n",
    "    \n",
    "num_epochs = callbacks[0].stopped_epoch"
   ]
  },
  {
   "cell_type": "code",
   "execution_count": 277,
   "id": "9f293f27",
   "metadata": {},
   "outputs": [
    {
     "data": {
      "text/plain": [
       "{'loss': [2.856133460998535,\n",
       "  2.841465950012207,\n",
       "  2.840606451034546,\n",
       "  2.8390564918518066,\n",
       "  2.8414807319641113,\n",
       "  2.841613531112671,\n",
       "  2.840528964996338],\n",
       " 'val_loss': [2.8413872718811035,\n",
       "  2.829249858856201,\n",
       "  2.837268114089966,\n",
       "  2.839080572128296,\n",
       "  2.839385747909546,\n",
       "  2.8472650051116943,\n",
       "  2.8407976627349854],\n",
       " 'lr': [0.0005, 0.0005, 0.0005, 0.0005, 0.00025, 0.00025, 0.000125]}"
      ]
     },
     "execution_count": 277,
     "metadata": {},
     "output_type": "execute_result"
    }
   ],
   "source": [
    "history.history"
   ]
  },
  {
   "cell_type": "code",
   "execution_count": 5,
   "id": "d6113e97",
   "metadata": {},
   "outputs": [],
   "source": [
    "NSAMPLES = DATASET_SIZE\n",
    "\n",
    "#Sample the learned distribution\n",
    "transformed = model.flow.sample(\n",
    "    NSAMPLES,\n",
    "    bijector_kwargs=make_bijector_kwargs(\n",
    "        model.flow.bijector, {'bijector.': {'conditional_input': samples_train[:,2].reshape(NSAMPLES,1)}})\n",
    ")\n",
    "\n",
    "transformed_first = model.flow.sample(\n",
    "    NSAMPLES,\n",
    "    bijector_kwargs=make_bijector_kwargs(\n",
    "        model.flow.bijector, {'bijector.': {'conditional_input': np.ones((NSAMPLES,1),dtype=np.float32)}})\n",
    ")\n",
    "\n",
    "transformed_second = model.flow.sample(\n",
    "    NSAMPLES,\n",
    "    bijector_kwargs=make_bijector_kwargs(\n",
    "        model.flow.bijector, {'bijector.': {'conditional_input': np.zeros((NSAMPLES,1),dtype=np.float32)}})\n",
    ")"
   ]
  },
  {
   "cell_type": "code",
   "execution_count": 6,
   "id": "4c061f4f",
   "metadata": {
    "scrolled": true
   },
   "outputs": [
    {
     "data": {
      "text/plain": [
       "<matplotlib.collections.PathCollection at 0x7fe2bdd7a790>"
      ]
     },
     "execution_count": 6,
     "metadata": {},
     "output_type": "execute_result"
    },
    {
     "data": {
      "image/png": "[encoded data removed]",
      "text/plain": [
       "<Figure size 864x360 with 2 Axes>"
      ]
     },
     "metadata": {
      "needs_background": "light"
     },
     "output_type": "display_data"
    }
   ],
   "source": [
    "#Plotting    \n",
    "fig = plt.figure(figsize=(12, 5))\n",
    "plt.subplot(121)    \n",
    "plt.scatter(transformed[:, 0], transformed[:, 1], color=\"r\", alpha=0.8)\n",
    "plt.subplot(122)\n",
    "plt.scatter(transformed_first[:, 0], transformed_first[:, 1], color=\"g\")\n",
    "plt.scatter(transformed_second[:, 0], transformed_second[:, 1], color=\"b\")"
   ]
  },
  {
   "cell_type": "code",
   "execution_count": 7,
   "id": "6d872aad",
   "metadata": {},
   "outputs": [
    {
     "name": "stdout",
     "output_type": "stream",
     "text": [
      "tf.Tensor([0.09904531], shape=(1,), dtype=float32)\n",
      "tf.Tensor([0.09904531], shape=(1,), dtype=float32)\n",
      "tf.Tensor([0.09904531], shape=(1,), dtype=float32)\n"
     ]
    }
   ],
   "source": [
    "# Saving the model for future inference\n",
    "save_model(model)\n",
    "\n",
    "# Let's create a new model with the same architecture, but with the exact trace estimator\n",
    "new_model = FFJORD(stacked_mlps,BATCH_SIZE,NUM_OUTPUT,trace_type='exact',name='loaded_model')\n",
    "load_model(new_model)\n",
    "\n",
    "# Verify that no fluctuations are involded\n",
    "point = [[0,1]]\n",
    "cond = [[1]]\n",
    "print(new_model.conditional_prob(point,cond))\n",
    "print(new_model.conditional_prob(point,cond))\n",
    "print(new_model.conditional_prob(point,cond))"
   ]
  },
  {
   "cell_type": "code",
   "execution_count": null,
   "id": "73f930bb",
   "metadata": {},
   "outputs": [],
   "source": [
    "# Alternative plotting: joint distribution, conditional value = 1\n",
    "fig = plt.figure(figsize=(8, 9))\n",
    "plt.subplot(311)    \n",
    "plt.scatter(transformed[:, 0], transformed[:, 1], color=\"r\")\n",
    "plt.subplot(312)\n",
    "plt.scatter(transformed_first[:, 0], transformed_first[:, 1], color=\"g\")\n",
    "plt.subplot(313)\n",
    "plt.scatter(transformed_second[:, 0], transformed_second[:, 1], color=\"b\")"
   ]
  },
  {
   "cell_type": "markdown",
   "id": "51299c66",
   "metadata": {},
   "source": [
    "# Maximum likelihood estimate \n",
    "Find the most probable conditional value z for a given data point x.\n",
    "\n",
    "### Math derivation\n",
    "Mathematically, what is the most likely $z$ for point $x=(a,b)$? We know the underlying distribution is a superposition of Gaussians centered at $(z,z)$. So for a point $(a,b)$, the most likely $z$ is such that $|(a,b) - (z,z)|$ is minimized.\n",
    "\n",
    "$$y = -x+c \\implies b = -a + c \\implies c = a+b$$\n",
    "$$y = -x+a+b = x \\implies x = (a+b)/2$$\n",
    "\n",
    "Therefore, the most likely $z$ is $(a+b)/2$ if  $0 \\leq (a+b)/2 \\leq 1$; $0$ if $a+b < 0$; and $1$ if $a+b > 2$.\n",
    "\n",
    "e.g. for $(x,0.5)$, $z = (x+0.5)/2$."
   ]
  },
  {
   "cell_type": "code",
   "execution_count": 8,
   "id": "3a6d7a3f",
   "metadata": {},
   "outputs": [
    {
     "data": {
      "text/plain": [
       "0.75"
      ]
     },
     "execution_count": 8,
     "metadata": {},
     "output_type": "execute_result"
    }
   ],
   "source": [
    "def mle_math(x):\n",
    "    a, b = x\n",
    "    if (a+b)/2 < 0:\n",
    "        return 0\n",
    "    elif (a+b)/2 > 1:\n",
    "        return 1\n",
    "    else:\n",
    "        return (a+b)/2\n",
    "\n",
    "mle_math((0.5,1))"
   ]
  },
  {
   "cell_type": "markdown",
   "id": "01b50669",
   "metadata": {},
   "source": [
    "### The first method is grid search: simply scan over many values of z, and remember the one that gives the highest p(x|z)."
   ]
  },
  {
   "cell_type": "code",
   "execution_count": 9,
   "id": "93277c09",
   "metadata": {
    "scrolled": false
   },
   "outputs": [
    {
     "name": "stdout",
     "output_type": "stream",
     "text": [
      "Random point: [ 1.8463279 -0.9467457]\n",
      "Most likely cond value (analytical): 0.4497911036014557\n",
      "Most likely cond value (scanning): 0.4\n"
     ]
    }
   ],
   "source": [
    "import time\n",
    "\n",
    "random_index = np.random.randint(DATASET_SIZE)\n",
    "#random_index = 0\n",
    "random_point = transformed[random_index]\n",
    "#print(random_point)\n",
    "\n",
    "N = 100\n",
    "\n",
    "def scanner(point, N):\n",
    "    start = time.time()\n",
    "    points = np.array([point] * (N+1))\n",
    "    zs = np.array([i/N for i in range(N+1)]).reshape((N+1,1))\n",
    "    #print(points, zs)\n",
    "    log_probs = new_model.conditional_log_prob(points, zs)\n",
    "\n",
    "    max_prob = np.amax(log_probs)\n",
    "    max_index = np.argmax(log_probs)\n",
    "\n",
    "    c_max = max_index / N\n",
    "    \n",
    "    end = time.time()\n",
    "    #print(f\"Run time (s): {end-start}\")\n",
    "    return c_max\n",
    "\n",
    "c_max = scanner(random_point, N)\n",
    "c_max_math = mle_math(random_point)\n",
    "print(f\"Random point: {random_point}\")\n",
    "print(f\"Most likely cond value (analytical): {c_max_math}\")\n",
    "print(f\"Most likely cond value (scanning): {c_max}\")"
   ]
  },
  {
   "cell_type": "code",
   "execution_count": 11,
   "id": "328deee6",
   "metadata": {
    "scrolled": false
   },
   "outputs": [
    {
     "data": {
      "text/plain": [
       "[<matplotlib.lines.Line2D at 0x7fe29b503dc0>]"
      ]
     },
     "execution_count": 11,
     "metadata": {},
     "output_type": "execute_result"
    },
    {
     "data": {
      "image/png": "[encoded data removed]",
      "text/plain": [
       "<Figure size 432x432 with 1 Axes>"
      ]
     },
     "metadata": {
      "needs_background": "light"
     },
     "output_type": "display_data"
    }
   ],
   "source": [
    "N = 500\n",
    "n_points = 100\n",
    "\n",
    "points = np.random.uniform(-0.5, 1.5, (n_points,2)).astype(np.float32)\n",
    "#print(points)\n",
    "\n",
    "c_maxs = []\n",
    "c_max_maths = []\n",
    "\n",
    "for point in points:\n",
    "    c_max = scanner(point, N)\n",
    "    c_max_math = mle_math(point)\n",
    "    c_maxs.append(c_max)\n",
    "    c_max_maths.append(c_max_math)\n",
    "    #if c_max_math<0.1:\n",
    "    #    print(point, c_max, c_max_math)\n",
    "\n",
    "fig = plt.figure(figsize=(6,6))\n",
    "plt.scatter(c_max_maths, c_maxs)\n",
    "plt.xlabel(\"mathematical result\")\n",
    "plt.ylabel(\"inferred result (by scanning)\")\n",
    "plt.plot([0,0.5,1], [0,0.5,1], c='green')"
   ]
  },
  {
   "cell_type": "code",
   "execution_count": 187,
   "id": "0a2a1e36",
   "metadata": {
    "scrolled": true
   },
   "outputs": [
    {
     "name": "stdout",
     "output_type": "stream",
     "text": [
      "Random point: [0.46125662 0.42954218]\n",
      "Most likely cond value (analytical): 0.4453994035720825\n",
      "Most likely cond value (scanning): 0.47\n"
     ]
    }
   ],
   "source": [
    "random_point = np.random.uniform(-1, 2, (2,)).astype(np.float32)\n",
    "\n",
    "c_max = scanner(random_point, N)\n",
    "c_max_math = mle_math(random_point)\n",
    "print(f\"Random point: {random_point}\")\n",
    "print(f\"Most likely cond value (analytical): {c_max_math}\")\n",
    "print(f\"Most likely cond value (scanning): {c_max}\")"
   ]
  },
  {
   "cell_type": "markdown",
   "id": "877c8bbc",
   "metadata": {},
   "source": [
    "(**defunct**) It looks like there are quite a few points for which the most likely $z$ value should be nonzero, but gets reported as 0 by the scanner. To investigate, let's find one such point, and plot $p(x|z)$ for that point:"
   ]
  },
  {
   "cell_type": "code",
   "execution_count": null,
   "id": "c4f4c196",
   "metadata": {},
   "outputs": [],
   "source": [
    "fixed_x = [0.05526591, 0.10162263]\n",
    "plot_pxz_fixed_x(fixed_x) # This function is defined below"
   ]
  },
  {
   "cell_type": "code",
   "execution_count": null,
   "id": "55fa2293",
   "metadata": {},
   "outputs": [],
   "source": [
    "N = 20\n",
    "coords = np.linspace(0, 1, N+1)\n",
    "ys = np.ones(N+1)\n",
    "points = np.stack((xs, xs), axis=-1).astype(np.float32)\n",
    "\n",
    "c_maxs = np.empty([N+1,N+1])\n",
    "\n",
    "xdata, ydata, zdata = [], [], []\n",
    "\n",
    "for i,x in enumerate(coords):\n",
    "    for j,y in enumerate(coords):\n",
    "        point = tf.constant([x,y], dtype=np.float32)\n",
    "        c_max = scanner(point, N)\n",
    "        c_maxs[i][j] = c_max\n",
    "        xdata.append(x)\n",
    "        ydata.append(y)\n",
    "        zdata.append(c_max)"
   ]
  },
  {
   "cell_type": "code",
   "execution_count": null,
   "id": "501bcd8e",
   "metadata": {},
   "outputs": [],
   "source": [
    "%matplotlib notebook\n",
    "ax = plt.axes(projection='3d')\n",
    "ax.scatter3D(xdata, ydata, zdata)"
   ]
  },
  {
   "cell_type": "code",
   "execution_count": null,
   "id": "76f4883d",
   "metadata": {},
   "outputs": [],
   "source": [
    "from matplotlib import cm\n",
    "plt.scatter(xdata, ydata, c=zdata, cmap=cm.jet)"
   ]
  },
  {
   "cell_type": "markdown",
   "id": "520d43b6",
   "metadata": {},
   "source": [
    "### Step 1: Plot p(x|z) for some z. \n",
    "Verify that we indeed get a normal distribution."
   ]
  },
  {
   "cell_type": "code",
   "execution_count": 14,
   "id": "b2d9dbb1",
   "metadata": {},
   "outputs": [],
   "source": [
    "def plot_pxz_fixed_z(z):\n",
    "    xs = np.linspace(-4,4,101)\n",
    "    xs_2D = np.stack([xs, xs]).T.astype(np.float32)\n",
    "    zs = np.ones((101,1), dtype=np.float32) * z\n",
    "    #print(xs_2D)\n",
    "    #print(xs_2D.shape, zs.shape)\n",
    "    probs = new_model.conditional_prob(xs_2D, zs)\n",
    "    fig_xs_1 = plt.figure(figsize=(7,5))\n",
    "    plt.plot(xs, probs, label='learned', c='orange')\n",
    "    analytical = np.array([np.exp(-(x-z)**2)/(2*np.pi) for x in xs]).reshape((101,))\n",
    "    plt.plot(xs, analytical, label=\"analytical\")\n",
    "    plt.xlabel(\"x\")\n",
    "    plt.legend()"
   ]
  },
  {
   "cell_type": "code",
   "execution_count": 15,
   "id": "13e8a7e3",
   "metadata": {},
   "outputs": [
    {
     "data": {
      "image/png": "[encoded data removed]",
      "text/plain": [
       "<Figure size 504x360 with 1 Axes>"
      ]
     },
     "metadata": {
      "needs_background": "light"
     },
     "output_type": "display_data"
    }
   ],
   "source": [
    "plot_pxz_fixed_z(0.5)"
   ]
  },
  {
   "cell_type": "markdown",
   "id": "174df87d",
   "metadata": {},
   "source": [
    "### Step 2: Compare learned and analytical likelihood.\n",
    "Plot p(x|z) as a function of z for fixed x"
   ]
  },
  {
   "cell_type": "code",
   "execution_count": 18,
   "id": "11a18bd7",
   "metadata": {
    "scrolled": true
   },
   "outputs": [],
   "source": [
    "def plot_pxz_fixed_x(point):\n",
    "    zs = np.linspace(0,1,101).reshape((101,1)).astype(np.float32)\n",
    "    points = np.full((101,2), point).astype(np.float32)\n",
    "    #print(xs.shape, zs.shape)\n",
    "    start = time.time()\n",
    "    neg_probs = -new_model.conditional_prob(points, zs)\n",
    "    end = time.time()\n",
    "    #print(end-start)\n",
    "    fig_zs_1 = plt.figure(figsize=(7,5))\n",
    "    plt.plot(zs, -neg_probs, label=\"learned\")\n",
    "    \n",
    "    x, y = point\n",
    "    analytical = np.array([-np.exp(-(x-z)**2/2) * np.exp(-(y-z)**2/2)/(2*np.pi) for z in zs]).reshape((101,))\n",
    "    plt.plot(zs, -analytical, label=\"analytical\", c='orange')\n",
    "    #print(neg_probs.shape)\n",
    "    #print(analytical.shape)\n",
    "    #plt.plot(zs, analytical/neg_probs, label=\"ratio\", c='orange')\n",
    "    plt.xlabel(\"z\")\n",
    "    plt.legend()"
   ]
  },
  {
   "cell_type": "code",
   "execution_count": 22,
   "id": "9ab7b592",
   "metadata": {},
   "outputs": [
    {
     "data": {
      "image/png": "[encoded data removed]",
      "text/plain": [
       "<Figure size 504x360 with 1 Axes>"
      ]
     },
     "metadata": {
      "needs_background": "light"
     },
     "output_type": "display_data"
    }
   ],
   "source": [
    "fixed_point = [0.3, 0.8]\n",
    "plot_pxz_fixed_x(fixed_point)"
   ]
  },
  {
   "cell_type": "markdown",
   "id": "1608b449",
   "metadata": {},
   "source": [
    "## Playing with gradient-based methods for inference"
   ]
  },
  {
   "cell_type": "markdown",
   "id": "c5273833",
   "metadata": {},
   "source": [
    "Below I'm trying out the example from https://www.tensorflow.org/probability/examples/Optimizers_in_TensorFlow_Probability"
   ]
  },
  {
   "cell_type": "code",
   "execution_count": 15,
   "id": "2d02be08",
   "metadata": {},
   "outputs": [],
   "source": [
    "%matplotlib inline\n",
    "\n",
    "import contextlib\n",
    "import functools\n",
    "import os\n",
    "import time\n",
    "\n",
    "import numpy as np\n",
    "import pandas as pd\n",
    "import scipy as sp\n",
    "from six.moves import urllib\n",
    "from sklearn import preprocessing\n",
    "\n",
    "import tensorflow.compat.v2 as tf\n",
    "tf.enable_v2_behavior()\n",
    "\n",
    "import tensorflow_probability as tfp"
   ]
  },
  {
   "cell_type": "code",
   "execution_count": 16,
   "id": "7a584196",
   "metadata": {},
   "outputs": [],
   "source": [
    "CACHE_DIR = os.path.join(os.sep, 'tmp', 'datasets')\n",
    "\n",
    "\n",
    "def make_val_and_grad_fn(value_fn):\n",
    "    @functools.wraps(value_fn)\n",
    "    def val_and_grad(x):\n",
    "        return tfp.math.value_and_gradient(value_fn, x)\n",
    "    return val_and_grad\n",
    "\n",
    "\n",
    "@contextlib.contextmanager\n",
    "def timed_execution():\n",
    "    t0 = time.time()\n",
    "    yield\n",
    "    dt = time.time() - t0\n",
    "    print('Evaluation took: %f seconds' % dt)\n",
    "\n",
    "\n",
    "def np_value(tensor):\n",
    "    \"\"\"Get numpy value out of possibly nested tuple of tensors.\"\"\"\n",
    "    if isinstance(tensor, tuple):\n",
    "        return type(tensor)(*(np_value(t) for t in tensor))\n",
    "    else:\n",
    "        return tensor.numpy()\n",
    "\n",
    "def run(optimizer):\n",
    "    \"\"\"Run an optimizer and measure it's evaluation time.\"\"\"\n",
    "    optimizer()  # Warmup.\n",
    "    with timed_execution():\n",
    "        result = optimizer()\n",
    "    return np_value(result)"
   ]
  },
  {
   "cell_type": "code",
   "execution_count": 55,
   "id": "b7022a97",
   "metadata": {
    "scrolled": false
   },
   "outputs": [
    {
     "name": "stdout",
     "output_type": "stream",
     "text": [
      "Evaluation took: 0.024226 seconds\n",
      "L-BFGS Results\n",
      "Function: quadratic\n",
      "Converged: True\n",
      "Location of the minimum: [1. 1. 1. 1. 1. 1. 1. 1. 1. 1.]\n",
      "Number of iterations: 10\n"
     ]
    }
   ],
   "source": [
    "# Fix numpy seed for reproducibility\n",
    "np.random.seed(12345)\n",
    "\n",
    "# The objective must be supplied as a function that takes a single\n",
    "# (Tensor) argument and returns a tuple. The first component of the\n",
    "# tuple is the value of the objective at the supplied point and the\n",
    "# second value is the gradient at the supplied point. The value must\n",
    "# be a scalar and the gradient must have the same shape as the\n",
    "# supplied argument.\n",
    "\n",
    "# The `make_val_and_grad_fn` decorator helps transforming a function\n",
    "# returning the objective value into one that returns both the gradient\n",
    "# and the value. It also works for both eager and graph mode.\n",
    "\n",
    "dim = 10\n",
    "minimum = np.ones([dim])\n",
    "var = np.ones([dim])*2\n",
    "scales = np.exp(np.random.randn(dim))\n",
    "#scales = np.array([0.001]*dim)\n",
    "\n",
    "@make_val_and_grad_fn\n",
    "def quadratic(x):\n",
    "    res = tf.reduce_sum(scales * (x - minimum) ** 2, axis=-1)\n",
    "    #tf.print(res)\n",
    "    return res\n",
    "\n",
    "\n",
    "# The minimization routine also requires you to supply an initial\n",
    "# starting point for the search. For this example we choose a random\n",
    "# starting point.\n",
    "start = np.random.randn(dim)\n",
    "\n",
    "# Finally an optional argument called tolerance let's you choose the\n",
    "# stopping point of the search. The tolerance specifies the maximum\n",
    "# (supremum) norm of the gradient vector at which the algorithm terminates.\n",
    "# If you don't have a specific need for higher or lower accuracy, leaving\n",
    "# this parameter unspecified (and hence using the default value of 1e-8)\n",
    "# should be good enough.\n",
    "tolerance = 1e-10\n",
    "\n",
    "@tf.function\n",
    "def quadratic_with_lbfgs():\n",
    "    return tfp.optimizer.lbfgs_minimize(\n",
    "      quadratic,\n",
    "      initial_position=tf.constant(start),\n",
    "      tolerance=tolerance)\n",
    "\n",
    "results = run(quadratic_with_lbfgs)\n",
    "\n",
    "# The optimization results contain multiple pieces of information. The most\n",
    "# important fields are: 'converged' and 'position'.\n",
    "# Converged is a boolean scalar tensor. As the name implies, it indicates\n",
    "# whether the norm of the gradient at the final point was within tolerance.\n",
    "# Position is the location of the minimum found. It is important to check\n",
    "# that converged is True before using the value of the position.\n",
    "\n",
    "print('L-BFGS Results')\n",
    "print('Function: quadratic')\n",
    "print('Converged:', results.converged)\n",
    "print('Location of the minimum:', results.position)\n",
    "print('Number of iterations:', results.num_iterations)"
   ]
  },
  {
   "cell_type": "markdown",
   "id": "b7f8fcb0",
   "metadata": {},
   "source": [
    "Let's change things up slightly, and do the same thing to minimize a negative Gaussian."
   ]
  },
  {
   "cell_type": "code",
   "execution_count": 52,
   "id": "f2820aba",
   "metadata": {
    "scrolled": true
   },
   "outputs": [
    {
     "name": "stdout",
     "output_type": "stream",
     "text": [
      "tf.Tensor(\n",
      "[-0.71354399 -0.83115354 -2.37023165 -1.86076079 -0.8607574   0.56014529\n",
      " -1.26593449  0.11982712 -1.06351245  0.33288272], shape=(10,), dtype=float64)\n",
      "Evaluation took: 0.077952 seconds\n",
      "L-BFGS Results\n",
      "Function: neg_gaussian\n",
      "Variance: [1 1 1 1 1 1 1 1 1 1]\n",
      "Converged: True\n",
      "Location of the minimum: [1. 1. 1. 1. 1. 1. 1. 1. 1. 1.]\n",
      "Number of iterations: 28\n"
     ]
    }
   ],
   "source": [
    "dim = 10\n",
    "minimum = np.ones([dim])\n",
    "var = np.array([1] * dim)\n",
    "start = np.random.randn(dim)\n",
    "tolerance = 1e-10\n",
    "\n",
    "print(tf.constant(start))\n",
    "\n",
    "@make_val_and_grad_fn\n",
    "def neg_gaussian(x):\n",
    "    #print(-tf.math.exp(-(x - minimum)**2/var))\n",
    "    res = tf.reduce_sum(-tf.math.exp(-(x - minimum)**2/var), axis=-1)\n",
    "    #tf.print(\"Result:\", res)\n",
    "    return res\n",
    "\n",
    "@tf.function\n",
    "def neg_gaussian_with_lbfgs():\n",
    "    return tfp.optimizer.lbfgs_minimize(\n",
    "      neg_gaussian,\n",
    "      initial_position=tf.constant(start),\n",
    "      tolerance=tolerance)\n",
    "\n",
    "results = run(neg_gaussian_with_lbfgs)\n",
    "\n",
    "print('L-BFGS Results')\n",
    "print('Function: neg_gaussian')\n",
    "print('Variance:', var)\n",
    "print('Converged:', results.converged)\n",
    "print('Location of the minimum:', results.position)\n",
    "print('Number of iterations:', results.num_iterations)"
   ]
  },
  {
   "cell_type": "code",
   "execution_count": null,
   "id": "fe15fb24",
   "metadata": {},
   "outputs": [],
   "source": [
    "@tf.function\n",
    "def neg_gaussian_with_bfgs():\n",
    "    return tfp.optimizer.bfgs_minimize(\n",
    "      neg_gaussian,\n",
    "      initial_position=tf.constant(start),\n",
    "      tolerance=tolerance)\n",
    "\n",
    "results = run(neg_gaussian_with_bfgs)\n",
    "\n",
    "print('BFGS Results')\n",
    "print('Function: neg_gaussian')\n",
    "print('Variance:', var)\n",
    "print('Converged:', results.converged)\n",
    "print('Location of the minimum:', results.position)\n",
    "print('Number of iterations:', results.num_iterations)"
   ]
  },
  {
   "cell_type": "code",
   "execution_count": null,
   "id": "56773adf",
   "metadata": {},
   "outputs": [],
   "source": [
    "x0 = np.zeros([dim])\n",
    "neg_gaussian(x0)"
   ]
  },
  {
   "cell_type": "markdown",
   "id": "9ac8b154",
   "metadata": {},
   "source": [
    "Finally, let's use the L-BFGS optimizer to minimize the function we care about, $p(x|z)$."
   ]
  },
  {
   "cell_type": "code",
   "execution_count": 75,
   "id": "30e3a787",
   "metadata": {
    "scrolled": true
   },
   "outputs": [
    {
     "name": "stdout",
     "output_type": "stream",
     "text": [
      "Evaluation took: 10.860492944717407 seconds\n"
     ]
    },
    {
     "data": {
      "text/plain": [
       "      fun: -0.16899080574512482\n",
       " hess_inv: array([[3.61884072]])\n",
       "      jac: array([3.3899803e-05], dtype=float32)\n",
       "  message: 'Desired error not necessarily achieved due to precision loss.'\n",
       "     nfev: 61\n",
       "      nit: 3\n",
       "     njev: 49\n",
       "   status: 2\n",
       "  success: False\n",
       "        x: array([0.46081405])"
      ]
     },
     "execution_count": 75,
     "metadata": {},
     "output_type": "execute_result"
    }
   ],
   "source": [
    "import scipy.optimize\n",
    "\n",
    "def scipy_opt(point, start):\n",
    "    start_time = time.time()\n",
    "    \n",
    "    @tf.function\n",
    "    def cond_prob_scalar(x, z):\n",
    "        x_tensor = tf.convert_to_tensor(x, dtype=tf.float32)\n",
    "        z_tensor = tf.cast(tf.reshape(z, (1, 1)), tf.float32)\n",
    "        output = new_model.conditional_prob(x_tensor, z_tensor)\n",
    "        #tf.print(\"Output\", output)\n",
    "        return output\n",
    "\n",
    "    @make_val_and_grad_fn\n",
    "    def neg_cond_prob(z):\n",
    "        #tf.print(\"z:\", z)\n",
    "        point_correct_dim = np.full((1,2), point).astype(np.float32)\n",
    "        output = tf.reduce_sum(-cond_prob_scalar(point_correct_dim, z), axis=-1)\n",
    "        #tf.print(output)\n",
    "        return output\n",
    "\n",
    "    def fun(z):\n",
    "        #print(\"eval f at:\", point)\n",
    "        val, deriv = neg_cond_prob(z)\n",
    "        return val.numpy()\n",
    "\n",
    "    def fun_deriv(z):\n",
    "        #print(\"eval f' at:\", point)\n",
    "        val, deriv = neg_cond_prob(z)\n",
    "        return deriv.numpy()\n",
    "    \n",
    "    start = np.array([start])\n",
    "\n",
    "    result = scipy.optimize.minimize(\n",
    "        fun=fun,\n",
    "        x0=start,\n",
    "        method=\"bfgs\",\n",
    "        jac=fun_deriv,\n",
    "    )\n",
    "\n",
    "    print(f\"Evaluation took: {time.time()-start_time} seconds\")\n",
    "    return result\n",
    "\n",
    "scipy_opt([0.5,0.5], 1.0)"
   ]
  },
  {
   "cell_type": "markdown",
   "id": "2262ee6c",
   "metadata": {},
   "source": [
    "This is what ended up working, using scipy optimizers."
   ]
  },
  {
   "cell_type": "code",
   "execution_count": 87,
   "id": "74536c6f",
   "metadata": {},
   "outputs": [
    {
     "name": "stdout",
     "output_type": "stream",
     "text": [
      "Evaluation took: 16.313994646072388 seconds\n",
      "      fun: -0.15091665089130402\n",
      " hess_inv: array([[12.53186413]])\n",
      "      jac: array([-0.00012272], dtype=float32)\n",
      "  message: 'Desired error not necessarily achieved due to precision loss.'\n",
      "     nfev: 79\n",
      "      nit: 4\n",
      "     njev: 68\n",
      "   status: 2\n",
      "  success: False\n",
      "        x: array([0.23702528])\n"
     ]
    }
   ],
   "source": [
    "import scipy.optimize\n",
    "\n",
    "fixed_x = [0.3,0.3]\n",
    "fixed_x_12 = np.full((1,2), fixed_x).astype(np.float32)\n",
    "\n",
    "@tf.function\n",
    "def cond_prob_scalar(x, z):\n",
    "    x_tensor = tf.convert_to_tensor(x, dtype=tf.float32)\n",
    "    z_tensor = tf.cast(tf.reshape(z, (1, 1)), tf.float32)\n",
    "    output = new_model.conditional_prob(x_tensor, z_tensor)\n",
    "    #tf.print(\"Output\", output)\n",
    "    return output\n",
    "\n",
    "@make_val_and_grad_fn\n",
    "def neg_cond_prob(z):\n",
    "    #tf.print(\"z:\", z)\n",
    "    output = tf.reduce_sum(-cond_prob_scalar(fixed_x_12, z), axis=-1)\n",
    "    #tf.print(output)\n",
    "    return output\n",
    "\n",
    "def fun(point):\n",
    "    #print(\"eval f at:\", point)\n",
    "    val, deriv = neg_cond_prob(point)\n",
    "    return val.numpy()\n",
    "\n",
    "def fun_deriv(point):\n",
    "    #print(\"eval f' at:\", point)\n",
    "    val, deriv = neg_cond_prob(point)\n",
    "    return deriv.numpy()\n",
    "\n",
    "start = np.array([0.3])\n",
    "\n",
    "start_time = time.time()\n",
    "result = scipy.optimize.minimize(\n",
    "    fun=fun,\n",
    "    x0=start,\n",
    "    method=\"BFGS\",\n",
    "    jac=fun_deriv,\n",
    ")\n",
    "\n",
    "print(f\"Evaluation took: {time.time()-start_time} seconds\")\n",
    "print(result)"
   ]
  },
  {
   "cell_type": "code",
   "execution_count": 88,
   "id": "fdd03428",
   "metadata": {
    "scrolled": true
   },
   "outputs": [
    {
     "data": {
      "image/png": "[encoded data removed]",
      "text/plain": [
       "<Figure size 504x360 with 1 Axes>"
      ]
     },
     "metadata": {
      "needs_background": "light"
     },
     "output_type": "display_data"
    }
   ],
   "source": [
    "fixed_point = [0.4, 0.5]\n",
    "plot_pxz_fixed_x(fixed_point)"
   ]
  },
  {
   "cell_type": "code",
   "execution_count": 85,
   "id": "37ad4b43",
   "metadata": {},
   "outputs": [
    {
     "data": {
      "text/plain": [
       "0.2"
      ]
     },
     "execution_count": 85,
     "metadata": {},
     "output_type": "execute_result"
    }
   ],
   "source": [
    "scanner(tf.constant([0.3,0.3],dtype=tf.float32),100)"
   ]
  },
  {
   "cell_type": "code",
   "execution_count": null,
   "id": "308757be",
   "metadata": {},
   "outputs": [],
   "source": [
    "# OLD: Use optimizer in TensowFlow. I could not get it to work :(\n",
    "fixed_x = [0.3,0.3]\n",
    "fixed_x_12 = np.full((1,2), fixed_x).astype(np.float32)\n",
    "print(fixed_x_12)\n",
    "\n",
    "@tf.function\n",
    "def cond_prob_scalar(x, z):\n",
    "    #print(f\"x = {x.shape}{x.dtype} {type(x)}  z = {z.shape}{z.dtype} {type(z)}\")\n",
    "    #print(f\"x = {x}, z = {z}\")\n",
    "    x_tensor = tf.convert_to_tensor(x, dtype=tf.float32)\n",
    "    z_tensor = tf.cast(tf.reshape(z, (1, 1)), tf.float32)\n",
    "    output = new_model.conditional_prob(x_tensor, z_tensor)\n",
    "    tf.print(\"Output\", output)\n",
    "    return output\n",
    "    #return tf.constant([0.5])\n",
    "\n",
    "@make_val_and_grad_fn\n",
    "def neg_cond_prob(z):\n",
    "    tf.print(\"z:\", z)\n",
    "    output = tf.reduce_sum(-cond_prob_scalar(fixed_x_12, z), axis=-1)\n",
    "    tf.print(output)\n",
    "    return output\n",
    "\n",
    "@tf.function\n",
    "def neg_cond_prob_with_lbfgs():\n",
    "    return tfp.optimizer.lbfgs_minimize(\n",
    "      neg_cond_prob,\n",
    "      initial_position=tf.constant(start, dtype=tf.float32),\n",
    "      tolerance=tolerance)"
   ]
  },
  {
   "cell_type": "markdown",
   "id": "4878251c",
   "metadata": {},
   "source": [
    "## Prior-independence"
   ]
  },
  {
   "cell_type": "markdown",
   "id": "d801246b",
   "metadata": {},
   "source": [
    "One reason for using a normalizing flow for this simple inferential task is that flows can learn in a priors-independent fashion. Below, we change up the distribution from which the training dataset was drawn, from a uniform distribution to a Gaussian distribution. Then, we train a second flow to perform the same inferential task as above. We will see that it does equally well as the original flow, and produces the same calibration curve. We compare its performance to a simple linear regressor such as the one from scikit learn."
   ]
  },
  {
   "cell_type": "code",
   "execution_count": 216,
   "id": "d3431910",
   "metadata": {},
   "outputs": [
    {
     "name": "stdout",
     "output_type": "stream",
     "text": [
      "Training samples: [[ 0.1557508  -0.39925289 -0.75122065]\n",
      " [ 0.87838799  1.28830421  0.76694214]\n",
      " [-0.14462547 -2.43893671 -0.85991729]\n",
      " ...\n",
      " [ 0.17943162  1.64214408  0.45714972]\n",
      " [-0.07309303 -0.76550174 -0.03231828]\n",
      " [ 1.3263582   0.85773402  0.54705092]]\n"
     ]
    }
   ],
   "source": [
    "# Target dataset: 2D Gaussians centered at (c,c)\n",
    "DATASET_SIZE = 1024 * 8 * 50\n",
    "BATCH_SIZE = 256\n",
    "\n",
    "def generate_2D_gaussian_gaussian(n):\n",
    "    cond_vals = np.random.normal(0.5, 1, (n,1))\n",
    "    samples = np.empty([n,2]).astype(np.float32)\n",
    "    for i in range(n):\n",
    "        samples[i] = np.random.normal(cond_vals[i], 1, (1,2))\n",
    "    return np.concatenate([samples, cond_vals],-1) #Last dimensions are the conditional values\n",
    "\n",
    "samples_train_gaussian = generate_2D_gaussian_gaussian(DATASET_SIZE)\n",
    "#samples_val = generate_2D_gaussian(VAL_SIZE)\n",
    "\n",
    "print(f\"Training samples: {samples_train_gaussian}\")"
   ]
  },
  {
   "cell_type": "code",
   "execution_count": 226,
   "id": "680e3ca7",
   "metadata": {},
   "outputs": [
    {
     "data": {
      "text/plain": [
       "(409600, 3)"
      ]
     },
     "execution_count": 226,
     "metadata": {},
     "output_type": "execute_result"
    }
   ],
   "source": [
    "samples_train_gaussian.shape"
   ]
  },
  {
   "cell_type": "code",
   "execution_count": null,
   "id": "8bb961a3",
   "metadata": {},
   "outputs": [
    {
     "name": "stdout",
     "output_type": "stream",
     "text": [
      "Number of trainable params: 3850\n",
      "Number of nontrainable params: 2.0\n",
      "Number of total params: 3852.0\n",
      "Epoch 1/40\n",
      "1440/1440 [==============================] - 276s 149ms/step - loss: 2.8539 - val_loss: 2.8576 - lr: 5.0000e-04\n",
      "Epoch 2/40\n",
      "1440/1440 [==============================] - 221s 153ms/step - loss: 2.8385 - val_loss: 2.8548 - lr: 5.0000e-04\n",
      "Epoch 3/40\n",
      "1440/1440 [==============================] - 224s 156ms/step - loss: 2.8468 - val_loss: 2.8507 - lr: 5.0000e-04\n",
      "Epoch 4/40\n",
      "1440/1440 [==============================] - 223s 155ms/step - loss: 2.8453 - val_loss: 2.8501 - lr: 5.0000e-04\n",
      "Epoch 5/40\n",
      "1440/1440 [==============================] - 225s 156ms/step - loss: 2.8425 - val_loss: 2.8331 - lr: 5.0000e-04\n",
      "Epoch 6/40\n",
      "1440/1440 [==============================] - 224s 156ms/step - loss: 2.8451 - val_loss: 2.8449 - lr: 5.0000e-04\n",
      "Epoch 7/40\n",
      "1440/1440 [==============================] - ETA: 0s - loss: 2.8435\n",
      "Epoch 00007: ReduceLROnPlateau reducing learning rate to 0.0002500000118743628.\n",
      "1440/1440 [==============================] - 224s 156ms/step - loss: 2.8435 - val_loss: 2.8426 - lr: 5.0000e-04\n",
      "Epoch 8/40\n",
      "1440/1440 [==============================] - 222s 154ms/step - loss: 2.8415 - val_loss: 2.8372 - lr: 2.5000e-04\n",
      "Epoch 9/40\n",
      "1440/1440 [==============================] - 226s 157ms/step - loss: 2.8401 - val_loss: 2.8271 - lr: 2.5000e-04\n",
      "Epoch 10/40\n",
      "1440/1440 [==============================] - 226s 157ms/step - loss: 2.8411 - val_loss: 2.8331 - lr: 2.5000e-04\n",
      "Epoch 11/40\n",
      "1440/1440 [==============================] - ETA: 0s - loss: 2.8453\n",
      "Epoch 00011: ReduceLROnPlateau reducing learning rate to 0.0001250000059371814.\n",
      "1440/1440 [==============================] - 224s 156ms/step - loss: 2.8453 - val_loss: 2.8449 - lr: 2.5000e-04\n",
      "Epoch 12/40\n",
      "1440/1440 [==============================] - 226s 157ms/step - loss: 2.8410 - val_loss: 2.8518 - lr: 1.2500e-04\n",
      "Epoch 13/40\n",
      "1440/1440 [==============================] - 227s 157ms/step - loss: 2.8442 - val_loss: 2.8231 - lr: 1.2500e-04\n",
      "Epoch 14/40\n",
      "1440/1440 [==============================] - 234s 163ms/step - loss: 2.8393 - val_loss: 2.8462 - lr: 1.2500e-04\n",
      "Epoch 15/40\n",
      " 662/1440 [============>.................] - ETA: 2:05 - loss: 2.8290"
     ]
    }
   ],
   "source": [
    "LR = 5e-4\n",
    "NUM_EPOCHS = 40\n",
    "STACKED_FFJORDS = 5 #Number of stacked transformations\n",
    "NUM_LAYERS = 3 #Hiddden layers per bijector\n",
    "NUM_OUTPUT = 2 #Output dimension\n",
    "NUM_HIDDEN = 12*NUM_OUTPUT #Hidden layer node size\n",
    "NUM_COND = 1 #Number of conditional dimensions\n",
    "\n",
    "\n",
    "#Stack of bijectors \n",
    "stacked_mlps = []\n",
    "for _ in range(STACKED_FFJORDS):\n",
    "    mlp_model = MLP_ODE(NUM_HIDDEN, NUM_LAYERS, NUM_OUTPUT,NUM_COND)\n",
    "    stacked_mlps.append(mlp_model)\n",
    "\n",
    "#Create the model\n",
    "model_gaus = FFJORD(stacked_mlps,BATCH_SIZE,NUM_OUTPUT,trace_type='hutchinson')\n",
    "model_gaus.compile(optimizer=keras.optimizers.Adam(learning_rate=LR))\n",
    "\n",
    "callbacks=[\n",
    "        EarlyStopping(monitor='val_loss',patience=5,restore_best_weights=True),\n",
    "        ReduceLROnPlateau(monitor='val_loss', factor=0.5,\n",
    "                              patience=2, min_lr=1e-6, verbose=1, cooldown=0)\n",
    "    ]\n",
    "\n",
    "trainableParams = np.sum([np.prod(v.get_shape()) for v in model.trainable_weights])\n",
    "nonTrainableParams = np.sum([np.prod(v.get_shape()) for v in model.non_trainable_weights])\n",
    "totalParams = trainableParams + nonTrainableParams\n",
    "print(f\"Number of trainable params: {trainableParams}\")\n",
    "print(f\"Number of nontrainable params: {nonTrainableParams}\")\n",
    "print(f\"Number of total params: {totalParams}\")\n",
    "\n",
    "history_gaus = model_gaus.fit(\n",
    "    samples_train_gaussian,\n",
    "    batch_size=BATCH_SIZE,\n",
    "    epochs=NUM_EPOCHS,\n",
    "    verbose=1,\n",
    "    validation_split=0.1,\n",
    "    #validation_data=samples_val,\n",
    "    callbacks=callbacks,\n",
    ")\n",
    "    \n",
    "num_epochs = callbacks[0].stopped_epoch"
   ]
  },
  {
   "cell_type": "code",
   "execution_count": 292,
   "id": "7ff2e489",
   "metadata": {},
   "outputs": [],
   "source": [
    "NSAMPLES = DATASET_SIZE\n",
    "\n",
    "#Sample the learned distribution\n",
    "transformed_gaus = model_gaus.flow.sample(\n",
    "    NSAMPLES,\n",
    "    bijector_kwargs=make_bijector_kwargs(\n",
    "        model_gaus.flow.bijector, {'bijector.': {'conditional_input': samples_train_gaussian[:,2].reshape(NSAMPLES,1)}})\n",
    ")\n",
    "\n",
    "transformed_first_gaus = model_gaus.flow.sample(\n",
    "    NSAMPLES,\n",
    "    bijector_kwargs=make_bijector_kwargs(\n",
    "        model_gaus.flow.bijector, {'bijector.': {'conditional_input': np.ones((NSAMPLES,1),dtype=np.float32)}})\n",
    ")\n",
    "\n",
    "transformed_second_gaus = model_gaus.flow.sample(\n",
    "    NSAMPLES,\n",
    "    bijector_kwargs=make_bijector_kwargs(\n",
    "        model_gaus.flow.bijector, {'bijector.': {'conditional_input': np.zeros((NSAMPLES,1),dtype=np.float32)}})\n",
    ")"
   ]
  },
  {
   "cell_type": "code",
   "execution_count": 293,
   "id": "d02b3784",
   "metadata": {},
   "outputs": [
    {
     "data": {
      "text/plain": [
       "<matplotlib.collections.PathCollection at 0x7f4c6c65e2e0>"
      ]
     },
     "execution_count": 293,
     "metadata": {},
     "output_type": "execute_result"
    },
    {
     "data": {
      "image/png": "[encoded data removed]",
      "text/plain": [
       "<Figure size 864x360 with 2 Axes>"
      ]
     },
     "metadata": {
      "needs_background": "light"
     },
     "output_type": "display_data"
    }
   ],
   "source": [
    "#Plotting    \n",
    "fig = plt.figure(figsize=(12, 5))\n",
    "plt.subplot(121)    \n",
    "plt.scatter(transformed_gaus[:, 0], transformed_gaus[:, 1], color=\"r\")\n",
    "plt.subplot(122)\n",
    "plt.scatter(transformed_first_gaus[:, 0], transformed_first_gaus[:, 1], color=\"g\")\n",
    "plt.scatter(transformed_second_gaus[:, 0], transformed_second_gaus[:, 1], color=\"b\")"
   ]
  },
  {
   "cell_type": "code",
   "execution_count": 296,
   "id": "b0677a5b",
   "metadata": {},
   "outputs": [],
   "source": [
    "# Saving the model for future inference\n",
    "save_model(model_gaus)\n",
    "\n",
    "# Let's create a new model with the same architecture, but with the exact trace estimator\n",
    "new_model_gaus = FFJORD(stacked_mlps,BATCH_SIZE,NUM_OUTPUT,trace_type='exact',name='loaded_model')\n",
    "load_model(new_model_gaus)"
   ]
  },
  {
   "cell_type": "code",
   "execution_count": 294,
   "id": "0d38cb83",
   "metadata": {},
   "outputs": [],
   "source": [
    "def scanner_gaus(point, N):\n",
    "    points = np.array([point] * (N+1))\n",
    "    zs = np.array([i/N for i in range(N+1)]).reshape((N+1,1))\n",
    "    log_probs = new_model_gaus.conditional_log_prob(points, zs)\n",
    "\n",
    "    max_prob = np.amax(log_probs)\n",
    "    max_index = np.argmax(log_probs)\n",
    "\n",
    "    c_max = max_index / N\n",
    "    return c_max"
   ]
  },
  {
   "cell_type": "code",
   "execution_count": 304,
   "id": "63703f42",
   "metadata": {},
   "outputs": [
    {
     "data": {
      "text/plain": [
       "<matplotlib.legend.Legend at 0x7f4c6a3e5e20>"
      ]
     },
     "execution_count": 304,
     "metadata": {},
     "output_type": "execute_result"
    },
    {
     "data": {
      "image/png": "[encoded data removed]",
      "text/plain": [
       "<Figure size 1296x360 with 3 Axes>"
      ]
     },
     "metadata": {
      "needs_background": "light"
     },
     "output_type": "display_data"
    }
   ],
   "source": [
    "from sklearn.linear_model import LinearRegression\n",
    "from sklearn.neural_network import MLPRegressor\n",
    "\n",
    "N = 500\n",
    "n_points = 100\n",
    "\n",
    "points = np.random.uniform(-0.5, 1.5, (n_points,2)).astype(np.float32)\n",
    "#print(points)\n",
    "\n",
    "c_maxs = []\n",
    "c_max_gauss = []\n",
    "c_max_maths = []\n",
    "\n",
    "# inferencec with the flow\n",
    "for point in points:\n",
    "    c_max = scanner(point, N)\n",
    "    c_max_gaus = scanner_gaus(point, N)\n",
    "    c_max_math = mle_math(point)\n",
    "    c_maxs.append(c_max)\n",
    "    c_max_gauss.append(c_max_gaus)\n",
    "    c_max_maths.append(c_max_math)\n",
    "\n",
    "# linear regressor, uniform priors\n",
    "coords = samples_train[:,0:2]\n",
    "conds = samples_train[:,2]\n",
    "reg = LinearRegression().fit(coords, conds)\n",
    "c_max_linregs = reg.predict(points)\n",
    "\n",
    "# linear regressor, Gaussian priors\n",
    "coords_gaus = samples_train_gaussian[:,0:2]\n",
    "conds_gaus = samples_train_gaussian[:,2]\n",
    "reg_gaus = LinearRegression().fit(coords_gaus, conds_gaus)\n",
    "c_max_linreg_gauss = reg_gaus.predict(points)\n",
    "\n",
    "# MLP regressor\n",
    "mlpreg = MLPRegressor(random_state=1, max_iter=500).fit(coords, conds)\n",
    "c_max_mlpregs = mlpreg.predict(points)\n",
    "mlpreg_gaus = MLPRegressor(random_state=1, max_iter=500).fit(coords_gaus, conds_gaus)\n",
    "c_max_mlpreg_gauss = mlpreg_gaus.predict(points)\n",
    "\n",
    "fig = plt.figure(figsize=(18, 5))\n",
    "plt.subplot(131)\n",
    "plt.scatter(c_max_maths, c_maxs, label=\"uniform priors\")\n",
    "plt.scatter(c_max_maths, c_max_gauss, label=\"Gaussian priors\")\n",
    "plt.xlabel(\"true value\")\n",
    "plt.ylabel(\"inferred value (by scanning)\")\n",
    "plt.title(\"normalizing flow\")\n",
    "plt.plot([0,0.5,1], [0,0.5,1], c='green')\n",
    "plt.legend()\n",
    "plt.subplot(132)\n",
    "plt.scatter(c_max_maths, c_max_linregs, label=\"uniform priors\")\n",
    "plt.scatter(c_max_maths, c_max_linreg_gauss, label=\"Gaussian priors\")\n",
    "plt.xlabel(\"true value\")\n",
    "plt.ylabel(\"inferred valued\")\n",
    "plt.title(\"scikit learn linear regressor\")\n",
    "plt.plot([0,0.5,1], [0,0.5,1], c='green')\n",
    "plt.legend()\n",
    "plt.subplot(133)\n",
    "plt.scatter(c_max_maths, c_max_mlpregs, label=\"uniform priors\")\n",
    "plt.scatter(c_max_maths, c_max_mlpreg_gauss, label=\"Gaussian priors\")\n",
    "plt.xlabel(\"true value\")\n",
    "plt.ylabel(\"inferred valued\")\n",
    "plt.title(\"scikit learn MLP regressor\")\n",
    "plt.plot([0,0.5,1], [0,0.5,1], c='green')\n",
    "plt.legend()"
   ]
  },
  {
   "cell_type": "code",
   "execution_count": 306,
   "id": "de143132",
   "metadata": {},
   "outputs": [],
   "source": [
    "test = generate_2D_gaussian(n_points)"
   ]
  },
  {
   "cell_type": "code",
   "execution_count": 318,
   "id": "23fd0aed",
   "metadata": {},
   "outputs": [
    {
     "data": {
      "text/plain": [
       "<matplotlib.legend.Legend at 0x7f4c69f06dc0>"
      ]
     },
     "execution_count": 318,
     "metadata": {},
     "output_type": "execute_result"
    },
    {
     "data": {
      "image/png": "[encoded data removed]",
      "text/plain": [
       "<Figure size 1296x360 with 3 Axes>"
      ]
     },
     "metadata": {
      "needs_background": "light"
     },
     "output_type": "display_data"
    }
   ],
   "source": [
    "points = test[:,0:2].reshape((n_points,2)).astype(np.float32)\n",
    "true_vals = test[:,2]\n",
    "\n",
    "c_maxs = []\n",
    "c_max_gauss = []\n",
    "c_max_maths = []\n",
    "\n",
    "# inferencec with the flow\n",
    "for point in points:\n",
    "    c_max = scanner(point, N)\n",
    "    c_max_gaus = scanner_gaus(point, N)\n",
    "    c_max_math = mle_math(point)\n",
    "    c_maxs.append(c_max)\n",
    "    c_max_gauss.append(c_max_gaus)\n",
    "    c_max_maths.append(c_max_math)\n",
    "\n",
    "# linear regressor, uniform priors\n",
    "coords = samples_train[:,0:2]\n",
    "conds = samples_train[:,2]\n",
    "reg = LinearRegression().fit(coords, conds)\n",
    "c_max_linregs = reg.predict(points)\n",
    "\n",
    "# linear regressor, Gaussian priors\n",
    "coords_gaus = samples_train_gaussian[:,0:2]\n",
    "conds_gaus = samples_train_gaussian[:,2]\n",
    "reg_gaus = LinearRegression().fit(coords_gaus, conds_gaus)\n",
    "c_max_linreg_gauss = reg_gaus.predict(points)\n",
    "\n",
    "# MLP regressor\n",
    "#mlpreg = MLPRegressor(random_state=1, max_iter=500).fit(coords, conds)\n",
    "#c_max_mlpregs = mlpreg.predict(points)\n",
    "#mlpreg_gaus = MLPRegressor(random_state=1, max_iter=500).fit(coords_gaus, conds_gaus)\n",
    "#c_max_mlpreg_gauss = mlpreg_gaus.predict(points)\n",
    "\n",
    "fig = plt.figure(figsize=(18, 5))\n",
    "plt.subplot(131)\n",
    "plt.scatter(true_vals, c_maxs, label=\"uniform priors\")\n",
    "plt.scatter(true_vals, c_max_gauss, label=\"Gaussian priors\")\n",
    "plt.xlabel(\"true value\")\n",
    "plt.ylabel(\"inferred value (by scanning)\")\n",
    "plt.title(\"normalizing flow\")\n",
    "plt.plot([0,0.5,1], [0,0.5,1], c='green')\n",
    "plt.legend()\n",
    "plt.subplot(132)\n",
    "plt.scatter(true_vals, c_max_linregs, label=\"uniform priors\")\n",
    "plt.scatter(true_vals, c_max_linreg_gauss, label=\"Gaussian priors\")\n",
    "plt.xlabel(\"true value\")\n",
    "plt.ylabel(\"inferred valued\")\n",
    "plt.title(\"scikit learn linear regressor\")\n",
    "plt.plot([0,0.5,1], [0,0.5,1], c='green')\n",
    "plt.legend()\n",
    "plt.subplot(133)\n",
    "plt.scatter(c_max_maths, c_max_mlpregs, label=\"uniform priors\")\n",
    "plt.scatter(c_max_maths, c_max_mlpreg_gauss, label=\"Gaussian priors\")\n",
    "plt.xlabel(\"true value\")\n",
    "plt.ylabel(\"inferred valued\")\n",
    "plt.title(\"scikit learn MLP regressor\")\n",
    "plt.plot([0,0.5,1], [0,0.5,1], c='green')\n",
    "plt.legend()"
   ]
  },
  {
   "cell_type": "code",
   "execution_count": null,
   "id": "5f378bd1",
   "metadata": {},
   "outputs": [],
   "source": []
  }
 ],
 "metadata": {
  "kernelspec": {
   "display_name": "Python 3 (ipykernel)",
   "language": "python",
   "name": "python3"
  },
  "language_info": {
   "codemirror_mode": {
    "name": "ipython",
    "version": 3
   },
   "file_extension": ".py",
   "mimetype": "text/x-python",
   "name": "python",
   "nbconvert_exporter": "python",
   "pygments_lexer": "ipython3",
   "version": "3.8.12"
  }
 },
 "nbformat": 4,
 "nbformat_minor": 5
}
